{
 "cells": [
  {
   "cell_type": "markdown",
   "metadata": {},
   "source": [
    "# Título 1\n",
    "## Título 2\n",
    "###### Título 6\n",
    "# Clase cuatro"
   ]
  },
  {
   "cell_type": "code",
   "execution_count": 1,
   "metadata": {},
   "outputs": [
    {
     "name": "stdout",
     "output_type": "stream",
     "text": [
      "Hola Mundo!\n"
     ]
    }
   ],
   "source": [
    "print(\"Hola Mundo!\")"
   ]
  },
  {
   "cell_type": "code",
   "execution_count": 5,
   "metadata": {},
   "outputs": [
    {
     "name": "stdout",
     "output_type": "stream",
     "text": [
      "<class 'int'>\n",
      "<class 'float'>\n",
      "<class 'str'>\n",
      "<class 'str'>\n",
      "<class 'str'>\n",
      "<class 'bool'>\n",
      "<class 'bool'>\n",
      "<class 'NoneType'>\n"
     ]
    }
   ],
   "source": [
    "# No tipado!\n",
    "# Variables Primitivas\n",
    "entero = 4\n",
    "decimales = 1.1\n",
    "nombre = \"Miguel\"\n",
    "segundo_nombre = \"Esteban\" # segundoNombre así no se declara una variable (x -> MAL)\n",
    "apellido = 'Reina'\n",
    "casado = False\n",
    "estudiante = True\n",
    "hijos = None\n",
    "print(type(entero)) #int\n",
    "print(type(decimales)) #float\n",
    "print(type(nombre)) #str\n",
    "print(type(segundo_nombre)) #str\n",
    "print(type(apellido)) #str\n",
    "print(type(casado)) #bool\n",
    "print(type(estudiante)) #bool\n",
    "print(type(hijos)) #NoneType\n"
   ]
  },
  {
   "cell_type": "code",
   "execution_count": 8,
   "metadata": {},
   "outputs": [
    {
     "name": "stdout",
     "output_type": "stream",
     "text": [
      "Nan: Not a number\n"
     ]
    }
   ],
   "source": [
    "float('nan')\n",
    "print(\"Nan: Not a number\")"
   ]
  },
  {
   "cell_type": "code",
   "execution_count": 1,
   "metadata": {},
   "outputs": [
    {
     "name": "stdout",
     "output_type": "stream",
     "text": [
      "Compila, implementa y supervisa las apps de Python a gran escala. Usa las API de Google para obtener estadísticas prácticas de los datos.\n",
      "check\n",
      "Aumenta o disminuye la capacidad de escalamiento de forma dinámica según el tráfico.\n",
      "check\n",
      "Compila, implementa y administra las aplicaciones en contenedores.\n",
      "check\n",
      "Depura y soluciona problemas con rapidez.\n",
      "check\n",
      "Aprovisiona máquinas virtuales personalizadas o realiza un procesamiento sin servidores.\n",
      "check\n",
      "Realiza análisis de datos o crea modelos de aprendizaje automático con API avanzadas.\n"
     ]
    }
   ],
   "source": [
    "cadena_de_texto = \"\"\"Compila, implementa y supervisa las apps de Python a gran escala. Usa las API de Google para obtener estadísticas prácticas de los datos.\n",
    "check\n",
    "Aumenta o disminuye la capacidad de escalamiento de forma dinámica según el tráfico.\n",
    "check\n",
    "Compila, implementa y administra las aplicaciones en contenedores.\n",
    "check\n",
    "Depura y soluciona problemas con rapidez.\n",
    "check\n",
    "Aprovisiona máquinas virtuales personalizadas o realiza un procesamiento sin servidores.\n",
    "check\n",
    "Realiza análisis de datos o crea modelos de aprendizaje automático con API avanzadas.\"\"\"\n",
    "\n",
    "print(cadena_de_texto)\n",
    "print(cad)"
   ]
  },
  {
   "cell_type": "code",
   "execution_count": 6,
   "metadata": {},
   "outputs": [
    {
     "name": "stdout",
     "output_type": "stream",
     "text": [
      "4\n",
      "False\n"
     ]
    }
   ],
   "source": [
    "print(entero)\n",
    "entero = decimales\n",
    "entero = hijos\n",
    "entero = casado\n",
    "print(entero)"
   ]
  },
  {
   "cell_type": "code",
   "execution_count": 7,
   "metadata": {},
   "outputs": [
    {
     "name": "stdout",
     "output_type": "stream",
     "text": [
      "Truty\n"
     ]
    }
   ],
   "source": [
    "#Condiciones\n",
    "#Truty - Falsy\n",
    "tuplas = (1,2,3) #Arreglos que no se pueden modificar\n",
    "listas = [4,5,6] #Arreglos que se pueden modificar\n",
    "diccionario = {\n",
    "    \"nombre\": \"Miguel\"\n",
    "}\n",
    "\n",
    "if('Miguel'):\n",
    "    # ... \n",
    "    # ...\n",
    "    print('Truty')\n",
    "else:\n",
    "    # ...\n",
    "    # ...\n",
    "    print('Falsy')"
   ]
  },
  {
   "cell_type": "code",
   "execution_count": 4,
   "metadata": {},
   "outputs": [
    {
     "name": "stdout",
     "output_type": "stream",
     "text": [
      "Falsy\n"
     ]
    }
   ],
   "source": [
    "if(''):\n",
    "    print('Truty')\n",
    "else:\n",
    "    print('Falsy')"
   ]
  },
  {
   "cell_type": "code",
   "execution_count": null,
   "metadata": {},
   "outputs": [],
   "source": []
  }
 ],
 "metadata": {
  "kernelspec": {
   "display_name": "Python 3",
   "language": "python",
   "name": "python3"
  },
  "language_info": {
   "codemirror_mode": {
    "name": "ipython",
    "version": 3
   },
   "file_extension": ".py",
   "mimetype": "text/x-python",
   "name": "python",
   "nbconvert_exporter": "python",
   "pygments_lexer": "ipython3",
   "version": "3.7.4"
  }
 },
 "nbformat": 4,
 "nbformat_minor": 4
}
