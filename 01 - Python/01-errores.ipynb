{
 "cells": [
  {
   "cell_type": "code",
   "execution_count": 4,
   "metadata": {},
   "outputs": [],
   "source": [
    "#asdfjhlsdfkjhsadf NameError\n",
    "#sdasda asdasda SyntaxError\n",
    "#0/0 ZeroDivisionError \n",
    "#a = {'b':'b'}\n",
    "#a['c'] \n",
    "#KeyError"
   ]
  },
  {
   "cell_type": "code",
   "execution_count": 11,
   "metadata": {},
   "outputs": [
    {
     "name": "stdout",
     "output_type": "stream",
     "text": [
      "Error comun en python\n"
     ]
    }
   ],
   "source": [
    "try:\n",
    "    asdaslhfasd\n",
    "    0/0\n",
    "    a = {'b':'b'}\n",
    "    a['c']\n",
    "except NameError as nameError:\n",
    "    print(\"Name error, variable no declarada\")\n",
    "except (ZeroDivisionError, KeyError) as errorComun:\n",
    "    print(\"Error comun en python\")\n",
    "except Exception as error:\n",
    "    print(error)"
   ]
  },
  {
   "cell_type": "code",
   "execution_count": null,
   "metadata": {},
   "outputs": [],
   "source": []
  }
 ],
 "metadata": {
  "kernelspec": {
   "display_name": "Python 3",
   "language": "python",
   "name": "python3"
  },
  "language_info": {
   "codemirror_mode": {
    "name": "ipython",
    "version": 3
   },
   "file_extension": ".py",
   "mimetype": "text/x-python",
   "name": "python",
   "nbconvert_exporter": "python",
   "pygments_lexer": "ipython3",
   "version": "3.7.4"
  }
 },
 "nbformat": 4,
 "nbformat_minor": 4
}
