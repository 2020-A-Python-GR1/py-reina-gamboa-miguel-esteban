{
 "cells": [
  {
   "cell_type": "code",
   "execution_count": 5,
   "metadata": {},
   "outputs": [
    {
     "name": "stdout",
     "output_type": "stream",
     "text": [
      "Hola Mundo!\n",
      "<class 'NoneType'>\n"
     ]
    }
   ],
   "source": [
    "#Funciones\n",
    "def hola_mundo(): # Devuleve None\n",
    "    print(\"Hola Mundo!\")\n",
    "print(type(hola_mundo()))"
   ]
  },
  {
   "cell_type": "code",
   "execution_count": 9,
   "metadata": {},
   "outputs": [
    {
     "name": "stdout",
     "output_type": "stream",
     "text": [
      "5\n",
      "La suma de 2 y 3 es igual a 5\n"
     ]
    }
   ],
   "source": [
    "def sumar_dos_numeros(num_uno, num_dos):\n",
    "    return num_uno + num_dos\n",
    "print(sumar_dos_numeros(2, 3))\n",
    "total_suma = sumar_dos_numeros(2, 3)\n",
    "print(f\"La suma de 2 y 3 es igual a {total_suma}\")"
   ]
  },
  {
   "cell_type": "code",
   "execution_count": 14,
   "metadata": {},
   "outputs": [
    {
     "name": "stdout",
     "output_type": "stream",
     "text": [
      "Universidad: EPN\n",
      "Universidad: ESPE\n"
     ]
    }
   ],
   "source": [
    "def imprimir_universidad(nombre = \"EPN\"):\n",
    "    print(f\"Universidad: {nombre}\")\n",
    "imprimir_universidad()\n",
    "imprimir_universidad(\"ESPE\")"
   ]
  },
  {
   "cell_type": "code",
   "execution_count": 22,
   "metadata": {},
   "outputs": [
    {
     "name": "stdout",
     "output_type": "stream",
     "text": [
      "Color: Blanco\n",
      "Placa: ABC 1234\n",
      "Forse power: 3000\n",
      "Año: 1989\n",
      "Color: Negro Mate\n",
      "Placa: DEF 456\n",
      "Forse power: 2500\n",
      "Año: 1996\n",
      "Color: Azul\n",
      "Placa: PDF 789\n",
      "Forse power: 5000\n",
      "Año: 2000\n"
     ]
    }
   ],
   "source": [
    "#Regla: Parametros requeridos, parametros opcionales.\n",
    "def imprimir_carro(color, placa, hp, anio=1989):\n",
    "    print(f\"Color: {color}\")\n",
    "    print(f\"Placa: {placa}\")\n",
    "    print(f\"Forse power: {hp}\")\n",
    "    print(f\"Año: {anio}\")\n",
    "#Parametros en orden establecido\n",
    "imprimir_carro(\"Blanco\",\"ABC 1234\",3000)\n",
    "#Named Parameters (Parametros nombrados)\n",
    "imprimir_carro(anio = 1996, placa = \"DEF 456\", hp = 2500, color = \"Negro Mate\")\n",
    "#Combinación; Evitar hacerlo\n",
    "imprimir_carro(\"Azul\", \"PDF 789\", anio = 2000, hp = 5000 )"
   ]
  },
  {
   "cell_type": "code",
   "execution_count": 31,
   "metadata": {},
   "outputs": [
    {
     "name": "stdout",
     "output_type": "stream",
     "text": [
      "1\n",
      "(2, 3, 4, 5)\n",
      "<class 'tuple'>\n"
     ]
    },
    {
     "data": {
      "text/plain": [
       "15"
      ]
     },
     "execution_count": 31,
     "metadata": {},
     "output_type": "execute_result"
    }
   ],
   "source": [
    "def sumar_numeros(primer_numero,\n",
    "                 *numeros):\n",
    "    print(primer_numero)\n",
    "    print(numeros)\n",
    "    print(type(numeros))\n",
    "    suma = primer_numero\n",
    "    for i in numeros:\n",
    "        suma += i\n",
    "    return suma\n",
    "sumar_numeros(1, 2, 3, 4, 5)"
   ]
  },
  {
   "cell_type": "code",
   "execution_count": 38,
   "metadata": {},
   "outputs": [
    {
     "name": "stdout",
     "output_type": "stream",
     "text": [
      "{'saludo': 'hola', 'persona': 'mundo'}\n",
      "<class 'dict'>\n"
     ]
    }
   ],
   "source": [
    "def establecer_configuracion(**kwargs): #Key word argument\n",
    "    print(kwargs)\n",
    "    print(type(kwargs))\n",
    "establecer_configuracion(saludo = 'hola', persona = 'mundo')"
   ]
  },
  {
   "cell_type": "code",
   "execution_count": 39,
   "metadata": {},
   "outputs": [],
   "source": [
    "#Reglas\n",
    "def ejemplo(requerido_uno, \n",
    "            requerido_dos, \n",
    "            opcional_uno = 1, \n",
    "            opcional_dos = 2, \n",
    "            *infinitos, \n",
    "            **kwargs):\n",
    "    print(\":)\")"
   ]
  },
  {
   "cell_type": "code",
   "execution_count": null,
   "metadata": {},
   "outputs": [],
   "source": []
  }
 ],
 "metadata": {
  "kernelspec": {
   "display_name": "Python 3",
   "language": "python",
   "name": "python3"
  },
  "language_info": {
   "codemirror_mode": {
    "name": "ipython",
    "version": 3
   },
   "file_extension": ".py",
   "mimetype": "text/x-python",
   "name": "python",
   "nbconvert_exporter": "python",
   "pygments_lexer": "ipython3",
   "version": "3.7.4"
  }
 },
 "nbformat": 4,
 "nbformat_minor": 4
}
