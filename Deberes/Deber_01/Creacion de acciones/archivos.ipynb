{
 "cells": [
  {
   "cell_type": "code",
   "execution_count": 88,
   "metadata": {},
   "outputs": [
    {
     "name": "stdout",
     "output_type": "stream",
     "text": [
      "['\\n', 'Piano\\n', '\\tMarca: Casio\\n', '\\tModelo: CS12\\n', 'Piano\\n', '\\tMarca: Casio\\n', '\\tModelo: CS12\\n', 'Piano\\n', '\\tMarca: Casio\\n', '\\tModelo: CS12']\n"
     ]
    }
   ],
   "source": [
    "def leer_archivo(direccion_r):\n",
    "    try:\n",
    "        path = f\"./{direccion_r}\"\n",
    "        abrir_archivo = open(path)\n",
    "        lector = abrir_archivo.readlines()\n",
    "        #print(lector)\n",
    "        abrir_archivo.close()\n",
    "    except Exception as Error:\n",
    "        print(\"Error en lectura de archivo.\")\n",
    "    return lector\n",
    "\n",
    "def ingresar_data(direccion_w, \n",
    "                          data):\n",
    "    try:\n",
    "        path = f\"./{direccion_w}\"\n",
    "        editar_archivo = open(path,'a')\n",
    "        editar_archivo.write(f\"\\n{data}\")\n",
    "        editar_archivo.close()\n",
    "    except Exception as Error:\n",
    "        print(\"No se pudo modificar su archivo.\")\n",
    "        \n",
    "def eliminar_data(direccion_d, dato):\n",
    "    lista_data = list(leer_archivo(direccion_d))\n",
    "    lista_data.remove(f\"{dato}\\n\")\n",
    "    print(lista_data)\n",
    "    return lista_data\n",
    "\n",
    "def modificar_data(direccion_m, dato_registrado, dato_nuevo):\n",
    "    lista_data_mod = list(leer_archivo(direccion_m))\n",
    "    for i in lista_data_mod:\n",
    "        #print(i)\n",
    "        if i == f\"{dato_registrado}\\n\":\n",
    "            i = f\"{dato_nuevo}\\n\"\n",
    "            \n",
    "    print(lista_data_mod)\n",
    "    \n",
    "#eliminar_data(\"instrumentos.txt\", \"Piano\")\n",
    "#ingresar_data(\"instrumentos.txt\", \"Piano\\n\\tMarca: Casio\\n\\tModelo: CS12\")\n",
    "#leer_archivo(\"instrumentos.txt\")\n",
    "modificar_data(\"instrumentos.txt\", \"Piano\", \"Ukelele\")"
   ]
  },
  {
   "cell_type": "code",
   "execution_count": null,
   "metadata": {},
   "outputs": [],
   "source": []
  },
  {
   "cell_type": "code",
   "execution_count": null,
   "metadata": {},
   "outputs": [],
   "source": []
  }
 ],
 "metadata": {
  "kernelspec": {
   "display_name": "Python 3",
   "language": "python",
   "name": "python3"
  },
  "language_info": {
   "codemirror_mode": {
    "name": "ipython",
    "version": 3
   },
   "file_extension": ".py",
   "mimetype": "text/x-python",
   "name": "python",
   "nbconvert_exporter": "python",
   "pygments_lexer": "ipython3",
   "version": "3.7.4"
  }
 },
 "nbformat": 4,
 "nbformat_minor": 4
}
